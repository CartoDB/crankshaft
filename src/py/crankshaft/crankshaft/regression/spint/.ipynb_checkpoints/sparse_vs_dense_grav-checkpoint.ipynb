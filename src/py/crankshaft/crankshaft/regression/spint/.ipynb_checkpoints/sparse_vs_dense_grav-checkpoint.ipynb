{
 "cells": [
  {
   "cell_type": "code",
   "execution_count": 1,
   "metadata": {
    "collapsed": false
   },
   "outputs": [
    {
     "name": "stdout",
     "output_type": "stream",
     "text": [
      "Populating the interactive namespace from numpy and matplotlib\n"
     ]
    }
   ],
   "source": [
    "import numpy as np\n",
    "import pandas as pd\n",
    "from gravity import Gravity, Production, Attraction, Doubly, BaseGravity\n",
    "from entropy import Unconstrained, ProductionConstrained, AttractionConstrained, DoublyConstrained\n",
    "import statsmodels.formula.api as smf\n",
    "from statsmodels.api import families\n",
    "import matplotlib.pyplot as plt\n",
    "%pylab inline\n",
    "\n",
    "import time                                                \n",
    "\n",
    "def timeit(method):\n",
    "\n",
    "    def timed(*args, **kw):\n",
    "        ts = time.time()\n",
    "        result = method(*args, **kw)\n",
    "        te = time.time()\n",
    "        elapsed = te-ts\n",
    "\n",
    "        #print '%2.8f sec' % \\\n",
    "              #(elapsed)\n",
    "        return result, elapsed\n",
    "\n",
    "    return timed"
   ]
  },
  {
   "cell_type": "code",
   "execution_count": 2,
   "metadata": {
    "collapsed": true
   },
   "outputs": [],
   "source": [
    "@timeit\n",
    "def gravity(f ,o, d, o_vars, d_vars, dij, cost='exp', framework='glm'):\n",
    "    results = Gravity(f, o_vars, d_vars, dij, cost, framework=framework)\n",
    "    return results\n",
    "    \n",
    "@timeit    \n",
    "def production(f ,o, d, o_vars, d_vars, dij, cost='exp', framework='glm'):\n",
    "    results = Production(f, o, d_vars, dij, 'exp', framework=framework)\n",
    "    return results\n",
    "\n",
    "@timeit    \n",
    "def attraction(f ,o, d, o_vars, d_vars, dij, cost='exp', framework='glm'):\n",
    "    results = Attraction(f, d, o_vars, dij, 'exp', framework=framework)\n",
    "    return results\n",
    "\n",
    "@timeit    \n",
    "def doubly(f ,o, d, o_vars, d_vars, dij, cost='exp', framework='glm'):\n",
    "    results = Doubly(f, o, d, dij, 'exp', framework=framework)\n",
    "    return results\n",
    "\n",
    "\n"
   ]
  },
  {
   "cell_type": "code",
   "execution_count": 3,
   "metadata": {
    "collapsed": true
   },
   "outputs": [],
   "source": [
    "def sim_data(n):\n",
    "    o = np.tile(np.arange(n),n)\n",
    "    d = np.repeat(np.arange(n),n)\n",
    "    loc_size = np.random.randint(25000,500000, n)\n",
    "    o_vars = np.tile(loc_size, n)\n",
    "    d_vars = np.repeat(loc_size, n)\n",
    "    dij = np.random.exponential(2500, n**2)\n",
    "    f = o_vars**.3*d_vars**.4*np.exp(dij*-.00005)\n",
    "    o = np.reshape(o, (-1,1))\n",
    "    d = np.reshape(d, (-1,1))\n",
    "    o_vars = np.reshape(o_vars, (-1,1))\n",
    "    d_vars = np.reshape(d_vars, (-1,1))\n",
    "    dij = np.reshape(dij, (-1,1))\n",
    "    f = np.reshape(f, (-1,1))\n",
    "    f = f.astype(np.int64)\n",
    "    return f, o, d, o_vars, d_vars, dij\n",
    "\n",
    "\n"
   ]
  },
  {
   "cell_type": "code",
   "execution_count": 4,
   "metadata": {
    "collapsed": true
   },
   "outputs": [],
   "source": [
    "def loop(func, start, stop, step, framework='glm'):\n",
    "    results = []\n",
    "    for n in np.arange(start, stop, step):\n",
    "        f, o, d, o_vars, d_vars, dij = sim_data(n)\n",
    "        out, elapsed = func(f, o, d, o_vars, d_vars, dij, 'exp', framework=framework)\n",
    "        print out.params[-2:]\n",
    "        results.append(elapsed)\n",
    "    return results\n",
    "    \n",
    "\n",
    "\n"
   ]
  },
  {
   "cell_type": "code",
   "execution_count": 16,
   "metadata": {
    "collapsed": true
   },
   "outputs": [],
   "source": [
    "#copy results over from notebook in sparse branch\n",
    "sp_grav = np.array([0.009379863739013672,\n",
    " 0.010191917419433594,\n",
    " 0.013580083847045898,\n",
    " 0.02336597442626953,\n",
    " 0.023818016052246094,\n",
    " 0.03525900840759277,\n",
    " 0.03714299201965332,\n",
    " 0.047389984130859375,\n",
    " 0.055455923080444336,\n",
    " 0.07191991806030273,\n",
    " 0.07992720603942871,\n",
    " 0.10130095481872559,\n",
    " 0.10898685455322266,\n",
    " 0.1385822296142578,\n",
    " 0.15839409828186035,\n",
    " 0.18109512329101562,\n",
    " 0.19623899459838867,\n",
    " 0.2373828887939453,\n",
    " 0.24484801292419434])\n",
    "\n",
    "sp_prod = np.array([0.008792877197265625,\n",
    " 0.012892961502075195,\n",
    " 0.018072128295898438,\n",
    " 0.02672410011291504,\n",
    " 0.036765098571777344,\n",
    " 0.05049705505371094,\n",
    " 0.06424093246459961,\n",
    " 0.08189702033996582,\n",
    " 0.1013631820678711,\n",
    " 0.1273641586303711,\n",
    " 0.15144896507263184,\n",
    " 0.17901921272277832,\n",
    " 0.2195439338684082,\n",
    " 0.2700672149658203,\n",
    " 0.2963399887084961,\n",
    " 0.332568883895874,\n",
    " 0.3813331127166748,\n",
    " 0.44652509689331055,\n",
    " 0.4651219844818115])\n",
    "\n",
    "sp_att = np.array([0.00892496109008789,\n",
    " 0.01181483268737793,\n",
    " 0.017676830291748047,\n",
    " 0.025489091873168945,\n",
    " 0.03578901290893555,\n",
    " 0.04750704765319824,\n",
    " 0.06312990188598633,\n",
    " 0.07956314086914062,\n",
    " 0.09888005256652832,\n",
    " 0.11808300018310547,\n",
    " 0.14717316627502441,\n",
    " 0.175645112991333,\n",
    " 0.20492291450500488,\n",
    " 0.23653817176818848,\n",
    " 0.2717468738555908,\n",
    " 0.2954838275909424,\n",
    " 0.3636939525604248,\n",
    " 0.4200310707092285,\n",
    " 0.43506598472595215])\n",
    "\n",
    "sp_doub = np.array([0.01020193099975586,\n",
    " 0.015948057174682617,\n",
    " 0.025825023651123047,\n",
    " 0.03924298286437988,\n",
    " 0.05489301681518555,\n",
    " 0.08008694648742676,\n",
    " 0.10814595222473145,\n",
    " 0.14121484756469727,\n",
    " 0.18188691139221191,\n",
    " 0.2283778190612793,\n",
    " 0.2879500389099121,\n",
    " 0.3248469829559326,\n",
    " 0.3642420768737793,\n",
    " 0.44018101692199707,\n",
    " 0.506378173828125,\n",
    " 0.5851249694824219,\n",
    " 0.6679189205169678,\n",
    " 0.7664568424224854,\n",
    " 0.8878300189971924])"
   ]
  },
  {
   "cell_type": "code",
   "execution_count": 10,
   "metadata": {
    "collapsed": false,
    "scrolled": false
   },
   "outputs": [
    {
     "name": "stdout",
     "output_type": "stream",
     "text": [
      "[  4.00003765e-01  -5.00082127e-05]\n",
      "[  4.00002697e-01  -5.00066666e-05]\n",
      "[  3.99999915e-01  -5.00055984e-05]\n",
      "[  4.00000861e-01  -5.00064292e-05]\n",
      "[  4.00001140e-01  -5.00063276e-05]\n",
      "[  4.00001953e-01  -5.00062703e-05]\n",
      "[  4.00001310e-01  -5.00062954e-05]\n",
      "[  4.00000599e-01  -5.00060056e-05]\n",
      "[  4.00001176e-01  -5.00056830e-05]\n",
      "[  4.00001582e-01  -5.00061861e-05]\n",
      "[  4.00001745e-01  -5.00066448e-05]\n",
      "[  4.00001078e-01  -5.00061603e-05]\n",
      "[  4.00001357e-01  -5.00060119e-05]\n",
      "[  4.00001380e-01  -5.00057114e-05]\n",
      "[  4.00001400e-01  -5.00060612e-05]\n",
      "[  4.00001041e-01  -5.00061054e-05]\n",
      "[  4.00001420e-01  -5.00061600e-05]\n",
      "[  4.00001390e-01  -5.00061795e-05]\n",
      "[  4.00001566e-01  -5.00060298e-05]\n",
      "[  4.00044504e-01  -5.00046674e-05]\n",
      "[  4.00045068e-01  -5.00051517e-05]\n",
      "[  4.00046830e-01  -5.00051536e-05]\n",
      "[  4.00044189e-01  -5.00051428e-05]\n",
      "[  4.00047196e-01  -5.00056583e-05]\n",
      "[  4.00046735e-01  -5.00056823e-05]\n",
      "[  4.00046318e-01  -5.00055976e-05]\n",
      "[  4.00047239e-01  -5.00055579e-05]\n",
      "[  4.00046316e-01  -5.00056376e-05]\n",
      "[  4.00045989e-01  -5.00051992e-05]\n",
      "[  4.00044818e-01  -5.00054746e-05]\n",
      "[  4.00045085e-01  -5.00051760e-05]\n",
      "[  4.00045998e-01  -5.00054688e-05]\n",
      "[  4.00045219e-01  -5.00055610e-05]\n",
      "[  4.00047317e-01  -5.00056556e-05]\n",
      "[  4.00045808e-01  -5.00055909e-05]\n",
      "[  4.00045374e-01  -5.00053382e-05]\n",
      "[  4.00046947e-01  -5.00056095e-05]\n",
      "[  4.00046361e-01  -5.00056381e-05]\n",
      "[  3.00034016e-01  -5.00057525e-05]\n",
      "[  3.00033252e-01  -5.00052744e-05]\n",
      "[  3.00030145e-01  -5.00053775e-05]\n",
      "[  3.00030037e-01  -5.00047565e-05]\n",
      "[  3.00032487e-01  -5.00052466e-05]\n",
      "[  3.00032907e-01  -5.00052725e-05]\n",
      "[  3.00033558e-01  -5.00059839e-05]\n",
      "[  3.00032909e-01  -5.00053619e-05]\n",
      "[  3.00031875e-01  -5.00051895e-05]\n",
      "[  3.00032290e-01  -5.00053379e-05]\n",
      "[  3.00032978e-01  -5.00053514e-05]\n",
      "[  3.00033905e-01  -5.00054823e-05]\n",
      "[  3.00031747e-01  -5.00056422e-05]\n",
      "[  3.00032427e-01  -5.00053723e-05]\n",
      "[  3.00031778e-01  -5.00052621e-05]\n",
      "[  3.00034105e-01  -5.00057004e-05]\n",
      "[  3.00033159e-01  -5.00053856e-05]\n",
      "[  3.00033450e-01  -5.00056404e-05]\n",
      "[  3.00032449e-01  -5.00053773e-05]\n",
      "[  9.05975391e+00  -5.00058173e-05]\n",
      "[  7.89807159e+00  -5.00052349e-05]\n",
      "[  8.90961019e+00  -5.00053092e-05]\n",
      "[  8.65670296e+00  -5.00054583e-05]\n",
      "[  8.84397080e+00  -5.00052016e-05]\n",
      "[  8.47393885e+00  -5.00054873e-05]\n",
      "[  8.29266674e+00  -5.00049815e-05]\n",
      "[  8.38421867e+00  -5.00060056e-05]\n",
      "[  8.82217852e+00  -5.00054169e-05]\n",
      "[  8.88570848e+00  -5.00056774e-05]\n",
      "[  8.36139835e+00  -5.00054640e-05]\n",
      "[  8.50520290e+00  -5.00056668e-05]\n",
      "[  8.93418525e+00  -5.00053669e-05]\n",
      "[  8.65710610e+00  -5.00055227e-05]\n",
      "[  7.73443865e+00  -5.00057702e-05]\n",
      "[  8.63212583e+00  -5.00053614e-05]\n",
      "[  7.95999344e+00  -5.00053746e-05]\n",
      "[  8.69617289e+00  -5.00056379e-05]\n",
      "[  8.54361439e+00  -4.99613448e-05]\n"
     ]
    }
   ],
   "source": [
    "grav = loop(gravity, 25, 500, 25)\n",
    "prod = loop(production, 25, 500, 25)\n",
    "att = loop(attraction, 25, 500, 25)\n",
    "doub = loop(doubly, 25, 500, 25)"
   ]
  },
  {
   "cell_type": "code",
   "execution_count": 11,
   "metadata": {
    "collapsed": true
   },
   "outputs": [],
   "source": [
    "x = np.arange(25, 500, 25)"
   ]
  },
  {
   "cell_type": "code",
   "execution_count": 12,
   "metadata": {
    "collapsed": false
   },
   "outputs": [
    {
     "data": {
      "text/plain": [
       "<matplotlib.text.Text at 0x10cf792d0>"
      ]
     },
     "execution_count": 12,
     "metadata": {},
     "output_type": "execute_result"
    },
    {
     "data": {
      "image/png": "[encoded data removed]",
      "text/plain": [
       "<matplotlib.figure.Figure at 0x10cea8550>"
      ]
     },
     "metadata": {},
     "output_type": "display_data"
    }
   ],
   "source": [
    "plt.plot(x, grav, x, sp_grav)\n",
    "plt.legend(('dense', 'sparse'))\n",
    "plt.title('Sparse vs Dense GLM Unconstrained Gravity Model')\n",
    "plt.xlabel('Sample Size')\n",
    "plt.ylabel('Seconds')"
   ]
  },
  {
   "cell_type": "code",
   "execution_count": 13,
   "metadata": {
    "collapsed": false
   },
   "outputs": [
    {
     "data": {
      "text/plain": [
       "<matplotlib.text.Text at 0x10cdc6450>"
      ]
     },
     "execution_count": 13,
     "metadata": {},
     "output_type": "execute_result"
    },
    {
     "data": {
      "image/png": "[encoded data removed]",
      "text/plain": [
       "<matplotlib.figure.Figure at 0x10cf670d0>"
      ]
     },
     "metadata": {},
     "output_type": "display_data"
    }
   ],
   "source": [
    "plt.plot(x, prod, x, sp_prod)\n",
    "plt.legend(('dense', 'sparse'))\n",
    "plt.title('Sparse vs Dense GLM Production-Constrained Gravity Model')\n",
    "plt.xlabel('Sample Size')\n",
    "plt.ylabel('Seconds')"
   ]
  },
  {
   "cell_type": "code",
   "execution_count": 14,
   "metadata": {
    "collapsed": false
   },
   "outputs": [
    {
     "data": {
      "text/plain": [
       "<matplotlib.text.Text at 0x10d49c410>"
      ]
     },
     "execution_count": 14,
     "metadata": {},
     "output_type": "execute_result"
    },
    {
     "data": {
      "image/png": "[encoded data removed]",
      "text/plain": [
       "<matplotlib.figure.Figure at 0x10cfb8910>"
      ]
     },
     "metadata": {},
     "output_type": "display_data"
    }
   ],
   "source": [
    "plt.plot(x, att, x, sp_att)\n",
    "plt.legend(('dense', 'sparse'))\n",
    "plt.title('Sparse vs Dense GLM Attraction-Constrained Gravity Model')\n",
    "plt.xlabel('Sample Size')\n",
    "plt.ylabel('Seconds')"
   ]
  },
  {
   "cell_type": "code",
   "execution_count": 17,
   "metadata": {
    "collapsed": false
   },
   "outputs": [
    {
     "data": {
      "text/plain": [
       "<matplotlib.text.Text at 0x10d49ce50>"
      ]
     },
     "execution_count": 17,
     "metadata": {},
     "output_type": "execute_result"
    },
    {
     "data": {
      "image/png": "[encoded data removed]",
      "text/plain": [
       "<matplotlib.figure.Figure at 0x10d4b1a90>"
      ]
     },
     "metadata": {},
     "output_type": "display_data"
    }
   ],
   "source": [
    "plt.plot(x, doub, x, sp_doub)\n",
    "plt.legend(('dense', 'sparse'))\n",
    "plt.title('Sparse vs Dense GLM Doubly-Constrained Gravity Model')\n",
    "plt.xlabel('Sample Size')\n",
    "plt.ylabel('Seconds')"
   ]
  },
  {
   "cell_type": "code",
   "execution_count": null,
   "metadata": {
    "collapsed": true
   },
   "outputs": [],
   "source": []
  }
 ],
 "metadata": {
  "kernelspec": {
   "display_name": "Python 2",
   "language": "python",
   "name": "python2"
  },
  "language_info": {
   "codemirror_mode": {
    "name": "ipython",
    "version": 2
   },
   "file_extension": ".py",
   "mimetype": "text/x-python",
   "name": "python",
   "nbconvert_exporter": "python",
   "pygments_lexer": "ipython2",
   "version": "2.7.9"
  }
 },
 "nbformat": 4,
 "nbformat_minor": 0
}
