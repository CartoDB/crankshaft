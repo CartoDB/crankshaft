{
 "cells": [
  {
   "cell_type": "code",
   "execution_count": 1,
   "metadata": {
    "collapsed": false
   },
   "outputs": [
    {
     "name": "stdout",
     "output_type": "stream",
     "text": [
      "Populating the interactive namespace from numpy and matplotlib\n"
     ]
    }
   ],
   "source": [
    "import numpy as np\n",
    "import pandas as pd\n",
    "from gravity import Gravity, Production, Attraction, Doubly, BaseGravity\n",
    "from entropy import Unconstrained, ProductionConstrained, AttractionConstrained, DoublyConstrained\n",
    "import statsmodels.formula.api as smf\n",
    "from statsmodels.api import families\n",
    "import matplotlib.pyplot as plt\n",
    "%pylab inline\n",
    "\n",
    "import time                                                \n",
    "\n",
    "def timeit(method):\n",
    "\n",
    "    def timed(*args, **kw):\n",
    "        ts = time.time()\n",
    "        result = method(*args, **kw)\n",
    "        te = time.time()\n",
    "        elapsed = te-ts\n",
    "\n",
    "        #print '%2.8f sec' % \\\n",
    "              #(elapsed)\n",
    "        return result, elapsed\n",
    "\n",
    "    return timed"
   ]
  },
  {
   "cell_type": "code",
   "execution_count": 2,
   "metadata": {
    "collapsed": false
   },
   "outputs": [],
   "source": [
    "@timeit\n",
    "def gravity(f ,o, d, o_vars, d_vars, dij, cost='exp', framework='glm'):\n",
    "    results = Gravity(f, o_vars, d_vars, dij, cost, framework=framework)\n",
    "    return results\n",
    "    \n",
    "@timeit    \n",
    "def production(f ,o, d, o_vars, d_vars, dij, cost='exp', framework='glm'):\n",
    "    results = Production(f, o, d_vars, dij, 'exp', framework=framework)\n",
    "    return results\n",
    "\n",
    "@timeit    \n",
    "def attraction(f ,o, d, o_vars, d_vars, dij, cost='exp', framework='glm'):\n",
    "    results = Attraction(f, d, o_vars, dij, 'exp', framework=framework)\n",
    "    return results\n",
    "\n",
    "@timeit    \n",
    "def doubly(f ,o, d, o_vars, d_vars, dij, cost='exp', framework='glm'):\n",
    "    results = Doubly(f, o, d, dij, 'exp', framework=framework)\n",
    "    return results\n",
    "\n"
   ]
  },
  {
   "cell_type": "code",
   "execution_count": 3,
   "metadata": {
    "collapsed": false
   },
   "outputs": [],
   "source": [
    "def sim_data(n):\n",
    "    o = np.tile(np.arange(n),n)\n",
    "    d = np.repeat(np.arange(n),n)\n",
    "    loc_size = np.random.randint(25000,500000, n)\n",
    "    o_vars = np.tile(loc_size, n)\n",
    "    d_vars = np.repeat(loc_size, n)\n",
    "    dij = np.random.exponential(2500, n**2)\n",
    "    f = o_vars**.3*d_vars**.4*np.exp(dij*-.00005)\n",
    "    o = np.reshape(o, (-1,1))\n",
    "    d = np.reshape(d, (-1,1))\n",
    "    o_vars = np.reshape(o_vars, (-1,1))\n",
    "    d_vars = np.reshape(d_vars, (-1,1))\n",
    "    dij = np.reshape(dij, (-1,1))\n",
    "    f = np.reshape(f, (-1,1))\n",
    "    f = f.astype(np.int64)\n",
    "    return f, o, d, o_vars, d_vars, dij\n"
   ]
  },
  {
   "cell_type": "code",
   "execution_count": 4,
   "metadata": {
    "collapsed": false
   },
   "outputs": [],
   "source": [
    "def loop(func, start, stop, step, framework='glm'):\n",
    "    results = []\n",
    "    for n in np.arange(start, stop, step):\n",
    "        f, o, d, o_vars, d_vars, dij = sim_data(n)\n",
    "        out, elapsed = func(f, o, d, o_vars, d_vars, dij, 'exp', framework=framework)\n",
    "        print out.params[-2:]\n",
    "        results.append(elapsed)\n",
    "    return results\n",
    "    \n"
   ]
  },
  {
   "cell_type": "code",
   "execution_count": 5,
   "metadata": {
    "collapsed": false
   },
   "outputs": [
    {
     "name": "stdout",
     "output_type": "stream",
     "text": [
      "[  4.00001257e-01  -5.00075026e-05]\n",
      "[  4.00002691e-01  -5.00057493e-05]\n",
      "[  4.00001649e-01  -5.00060675e-05]\n",
      "[  4.00001376e-01  -5.00058984e-05]\n",
      "[  4.00051886e-01  -5.00049596e-05]\n",
      "[  4.00044719e-01  -5.00050590e-05]\n",
      "[  4.00043934e-01  -5.00056964e-05]\n",
      "[  4.00043715e-01  -5.00050037e-05]\n",
      "[  3.00028487e-01  -5.00050902e-05]\n",
      "[  3.00033534e-01  -5.00062507e-05]\n",
      "[  3.00034197e-01  -5.00056436e-05]\n",
      "[  3.00031161e-01  -5.00054761e-05]\n",
      "[  8.75614014e+00  -5.00047571e-05]\n",
      "[  9.11029983e+00  -5.00060123e-05]\n",
      "[  8.87950504e+00  -5.00053788e-05]\n",
      "[  8.72216390e+00  -5.00056374e-05]\n"
     ]
    }
   ],
   "source": [
    "glm_grav = loop(gravity, 50, 250, 50)\n",
    "glm_prod = loop(production, 50, 250, 50)\n",
    "glm_att = loop(attraction, 50, 250, 50)\n",
    "glm_doub = loop(doubly, 50, 250, 50)"
   ]
  },
  {
   "cell_type": "code",
   "execution_count": 13,
   "metadata": {
    "collapsed": false
   },
   "outputs": [
    {
     "name": "stdout",
     "output_type": "stream",
     "text": [
      "[  4.00002626e-01  -5.00057094e-05]\n",
      "[  4.00000936e-01  -5.00062666e-05]\n",
      "[  4.00001444e-01  -5.00060850e-05]\n",
      "[  4.00000755e-01  -5.00061246e-05]\n",
      "[  4.00052830e-01  -5.00067562e-05]\n",
      "[  4.00045674e-01  -5.00053804e-05]\n",
      "[  4.00045399e-01  -5.00052245e-05]\n",
      "[  4.00046355e-01  -5.00055175e-05]\n",
      "[  3.00035234e-01  -5.00067417e-05]\n",
      "[  3.00032374e-01  -5.00055319e-05]\n",
      "[  3.00032702e-01  -5.00053970e-05]\n",
      "[  3.00032242e-01  -5.00056510e-05]\n",
      "[  8.92179263e+00  -5.00048341e-05]\n",
      "[  9.03051268e+00  -5.00050915e-05]\n",
      "[  9.09915765e+00  -5.00057034e-05]\n",
      "[  9.09697592e+00  -5.00055190e-05]\n"
     ]
    }
   ],
   "source": [
    "smglm_grav = loop(gravity, 50, 250, 50, framework='sm_glm')\n",
    "smglm_prod = loop(production, 50, 250, 50, framework='sm_glm')\n",
    "smglm_att = loop(attraction, 50, 250, 50, framework='sm_glm')\n",
    "smglm_doub = loop(doubly, 50, 250, 50, framework='sm_glm')"
   ]
  },
  {
   "cell_type": "code",
   "execution_count": 6,
   "metadata": {
    "collapsed": false
   },
   "outputs": [],
   "source": [
    "x = np.arange(50, 250, 50)"
   ]
  },
  {
   "cell_type": "code",
   "execution_count": 12,
   "metadata": {
    "collapsed": false,
    "scrolled": true
   },
   "outputs": [
    {
     "data": {
      "text/plain": [
       "<matplotlib.text.Text at 0x105cb9d50>"
      ]
     },
     "execution_count": 12,
     "metadata": {},
     "output_type": "execute_result"
    },
    {
     "data": {
      "image/png": "[encoded data removed]",
      "text/plain": [
       "<matplotlib.figure.Figure at 0x10d145b50>"
      ]
     },
     "metadata": {},
     "output_type": "display_data"
    }
   ],
   "source": [
    "plt.plot(x, glm_grav, x, glm_prod, x, glm_att, x, glm_doub)\n",
    "plt.legend(('unconstrained', 'production', 'attraction', 'doubly'))\n",
    "plt.title('Custom GLM Framework')\n",
    "plt.xlabel('Sample Size')\n",
    "plt.ylabel('Seconds')"
   ]
  },
  {
   "cell_type": "code",
   "execution_count": 14,
   "metadata": {
    "collapsed": false
   },
   "outputs": [
    {
     "data": {
      "text/plain": [
       "<matplotlib.text.Text at 0x10d2d9c90>"
      ]
     },
     "execution_count": 14,
     "metadata": {},
     "output_type": "execute_result"
    },
    {
     "data": {
      "image/png": "[encoded data removed]",
      "text/plain": [
       "<matplotlib.figure.Figure at 0x10bdb7d90>"
      ]
     },
     "metadata": {},
     "output_type": "display_data"
    }
   ],
   "source": [
    "plt.plot(x, smglm_grav, x, smglm_prod, x, smglm_att, x, smglm_doub)\n",
    "plt.legend(('unconstrained', 'production', 'attraction', 'doubly'))\n",
    "plt.legend(('unconstrained', 'production', 'attraction', 'doubly'))\n",
    "plt.title('Statsmodels GLM Framework')\n",
    "plt.xlabel('Sample Size')\n",
    "plt.ylabel('Seconds')"
   ]
  }
 ],
 "metadata": {
  "kernelspec": {
   "display_name": "Python 2",
   "language": "python",
   "name": "python2"
  },
  "language_info": {
   "codemirror_mode": {
    "name": "ipython",
    "version": 2
   },
   "file_extension": ".py",
   "mimetype": "text/x-python",
   "name": "python",
   "nbconvert_exporter": "python",
   "pygments_lexer": "ipython2",
   "version": "2.7.9"
  }
 },
 "nbformat": 4,
 "nbformat_minor": 0
}
