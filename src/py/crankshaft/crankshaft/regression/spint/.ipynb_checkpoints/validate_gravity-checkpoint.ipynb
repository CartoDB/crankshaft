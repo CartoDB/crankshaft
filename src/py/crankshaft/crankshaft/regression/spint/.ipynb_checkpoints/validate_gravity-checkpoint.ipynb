{
 "cells": [
  {
   "cell_type": "code",
   "execution_count": 1,
   "metadata": {
    "collapsed": false
   },
   "outputs": [],
   "source": [
    "import numpy as np\n",
    "import pandas as pd\n",
    "from gravity import Gravity, Production, Attraction, Doubly, BaseGravity\n",
    "from entropy import Unconstrained, ProductionConstrained, AttractionConstrained, DoublyConstrained\n",
    "import statsmodels.formula.api as smf\n",
    "from statsmodels.api import families\n"
   ]
  },
  {
   "cell_type": "code",
   "execution_count": 2,
   "metadata": {
    "collapsed": true
   },
   "outputs": [],
   "source": [
    "austria = pd.read_csv('http://dl.dropbox.com/u/8649795/AT_Austria.csv')\n",
    "austria = austria[austria['Origin'] != austria['Destination']]\n",
    "f = austria['Data'].values\n",
    "o = austria['Origin'].values\n",
    "d = austria['Destination'].values\n",
    "dij = austria['Dij'].values\n",
    "o_vars = austria['Oi2007'].values\n",
    "d_vars = austria['Dj2007'].values"
   ]
  },
  {
   "cell_type": "code",
   "execution_count": null,
   "metadata": {
    "collapsed": false
   },
   "outputs": [],
   "source": []
  },
  {
   "cell_type": "code",
   "execution_count": 3,
   "metadata": {
    "collapsed": false
   },
   "outputs": [
    {
     "name": "stdout",
     "output_type": "stream",
     "text": [
      "[ 0.44051324  0.5144978  -0.00976746]\n",
      "[ 0.44051324  0.5144978  -0.00976746]\n",
      "{'Dj2007': 0.5242653, 'beta': -0.0097675, 'Oi2007': 0.4502807}\n",
      "[ 0.44051324  0.5144978  -0.00976746]\n"
     ]
    }
   ],
   "source": [
    "gravity = Gravity(f, o_vars, d_vars, dij, 'exp', framework='sm_glm')\n",
    "print gravity.params\n",
    "\n",
    "gravity = Gravity(f, o_vars, d_vars, dij, 'exp', framework='glm')\n",
    "print gravity.params\n",
    "\n",
    "gravity = Unconstrained(austria, 'Origin', 'Destination', 'Data', ['Oi2007'] ,['Dj2007'], 'Dij', 'exp')\n",
    "print gravity.p\n",
    "\n",
    "gravity = smf.glm('Data~np.log(Oi2007)+np.log(Dj2007)+Dij-1', family=families.Poisson(), data=austria).fit()\n",
    "print gravity.params.values"
   ]
  },
  {
   "cell_type": "code",
   "execution_count": 4,
   "metadata": {
    "collapsed": false,
    "scrolled": false
   },
   "outputs": [
    {
     "name": "stdout",
     "output_type": "stream",
     "text": [
      "[ 0.89278717 -0.00727113]\n",
      "{'Dj2007': 0.9000583, 'beta': -0.0072711}\n",
      "[ 0.89278717 -0.00727113]\n"
     ]
    }
   ],
   "source": [
    "#production = Production(f, o, d_vars, dij, 'exp', framework='sm_glm')\n",
    "#print production.params[-2:]\n",
    "\n",
    "production = Production(f, o, d_vars, dij, 'exp', framework='glm')\n",
    "print production.params[-2:]\n",
    "\n",
    "production = ProductionConstrained(austria, 'Origin', 'Destination', 'Data', ['Dj2007'], 'Dij', 'exp')\n",
    "print production.p\n",
    "\n",
    "gravity = smf.glm('Data~Origin+np.log(Dj2007)+Dij', family=families.Poisson(), data=austria).fit()\n",
    "print gravity.params.values[-2:]\n"
   ]
  },
  {
   "cell_type": "code",
   "execution_count": 5,
   "metadata": {
    "collapsed": false,
    "scrolled": false
   },
   "outputs": [
    {
     "name": "stdout",
     "output_type": "stream",
     "text": [
      "[ 0.89235874 -0.00693755]\n",
      "{'beta': -0.0069375, 'Oi2007': 0.8992963}\n",
      "[ 0.89235874 -0.00693755]\n"
     ]
    }
   ],
   "source": [
    "#attraction = Attraction(f, d, o_vars, dij, 'exp')\n",
    "#print attraction.params[-2:]\n",
    "\n",
    "attraction = Attraction(f, d, o_vars, dij, 'exp', framework='glm')\n",
    "print attraction.params[-2:]\n",
    "\n",
    "attraction = AttractionConstrained(austria, 'Origin', 'Destination', 'Data', ['Oi2007'], 'Dij', 'exp')\n",
    "print attraction.p\n",
    "\n",
    "gravity = smf.glm('Data~np.log(Oi2007)+Destination + Dij', family=families.Poisson(), data=austria).fit()\n",
    "print gravity.params.values[-2:]"
   ]
  },
  {
   "cell_type": "code",
   "execution_count": 6,
   "metadata": {
    "collapsed": false
   },
   "outputs": [
    {
     "name": "stdout",
     "output_type": "stream",
     "text": [
      "-0.0079153331097\n",
      "{'beta': -0.0079153}\n",
      "-0.0079153331611\n"
     ]
    },
    {
     "name": "stderr",
     "output_type": "stream",
     "text": [
      "/Library/Frameworks/Python.framework/Versions/2.7/lib/python2.7/site-packages/scipy/optimize/minpack.py:237: RuntimeWarning: The iteration is not making good progress, as measured by the \n",
      "  improvement from the last ten iterations.\n",
      "  warnings.warn(msg, RuntimeWarning)\n"
     ]
    }
   ],
   "source": [
    "#doubly = Doubly(f, o, d, dij, 'exp')\n",
    "#print doubly.params[-1]\n",
    "\n",
    "\n",
    "doubly = Doubly(f, o, d, dij, 'exp', framework='glm')\n",
    "print doubly.params[-1]\n",
    "\n",
    "doubly = DoublyConstrained(austria, 'Origin', 'Destination', 'Data', 'Dij', 'exp')\n",
    "print doubly.p\n",
    "\n",
    "gravity = smf.glm('Data~Origin+Destination+Dij-1', family=families.Poisson(), data=austria).fit()\n",
    "print gravity.params.values[-1]\n"
   ]
  },
  {
   "cell_type": "code",
   "execution_count": null,
   "metadata": {
    "collapsed": true
   },
   "outputs": [],
   "source": []
  },
  {
   "cell_type": "code",
   "execution_count": null,
   "metadata": {
    "collapsed": true
   },
   "outputs": [],
   "source": []
  },
  {
   "cell_type": "code",
   "execution_count": null,
   "metadata": {
    "collapsed": true
   },
   "outputs": [],
   "source": []
  }
 ],
 "metadata": {
  "kernelspec": {
   "display_name": "Python 2",
   "language": "python",
   "name": "python2"
  },
  "language_info": {
   "codemirror_mode": {
    "name": "ipython",
    "version": 2
   },
   "file_extension": ".py",
   "mimetype": "text/x-python",
   "name": "python",
   "nbconvert_exporter": "python",
   "pygments_lexer": "ipython2",
   "version": "2.7.9"
  }
 },
 "nbformat": 4,
 "nbformat_minor": 0
}
