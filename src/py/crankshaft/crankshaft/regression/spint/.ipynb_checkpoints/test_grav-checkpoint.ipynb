{
 "cells": [
  {
   "cell_type": "code",
   "execution_count": 1,
   "metadata": {
    "collapsed": false
   },
   "outputs": [
    {
     "name": "stdout",
     "output_type": "stream",
     "text": [
      "Populating the interactive namespace from numpy and matplotlib\n"
     ]
    }
   ],
   "source": [
    "import numpy as np\n",
    "import pandas as pd\n",
    "from gravity import Gravity, Production, Attraction, Doubly, BaseGravity\n",
    "import statsmodels.formula.api as smf\n",
    "from statsmodels.api import families\n",
    "import matplotlib.pyplot as plt\n",
    "%pylab inline"
   ]
  },
  {
   "cell_type": "code",
   "execution_count": 2,
   "metadata": {
    "collapsed": false
   },
   "outputs": [
    {
     "name": "stdout",
     "output_type": "stream",
     "text": [
      "CPU times: user 10.7 s, sys: 429 ms, total: 11.1 s\n",
      "Wall time: 10.6 s\n"
     ]
    }
   ],
   "source": [
    "\n",
    "n = 1000\n",
    "o = np.tile(np.arange(n),n)\n",
    "d = np.repeat(np.arange(n),n)\n",
    "loc_size = np.random.randint(25000,500000, n)\n",
    "o_vars = np.tile(loc_size, n)\n",
    "d_vars = np.repeat(loc_size, n)\n",
    "dij = np.random.exponential(2500, n**2)\n",
    "f = o_vars**.3*d_vars**.4*np.exp(dij*-.00005)\n",
    "o = np.reshape(o, (-1,1))\n",
    "d = np.reshape(d, (-1,1))\n",
    "o_vars = np.reshape(o_vars, (-1,1))\n",
    "d_vars = np.reshape(d_vars, (-1,1))\n",
    "dij = np.reshape(dij, (-1,1))\n",
    "f = np.reshape(f, (-1,1))\n",
    "f = f.astype(np.int64)\n",
    "%time prod = Production(f, o, d_vars, dij, 'exp')"
   ]
  },
  {
   "cell_type": "code",
   "execution_count": 3,
   "metadata": {
    "collapsed": false
   },
   "outputs": [],
   "source": [
    "from glm import GLM\n",
    "from iwls import iwls\n",
    "import line_profiler\n",
    "import IPython\n",
    "ip = IPython.get_ipython()\n",
    "ip.define_magic('lprun', line_profiler.magic_lprun)\n",
    "instance = Production(f, o, d_vars, dij, 'exp')\n"
   ]
  },
  {
   "cell_type": "code",
   "execution_count": 9,
   "metadata": {
    "collapsed": false
   },
   "outputs": [
    {
     "name": "stdout",
     "output_type": "stream",
     "text": [
      "correct sparse\n"
     ]
    }
   ],
   "source": [
    "%lprun -f BaseGravity.__init__ instance.__init__(f, o, d_vars, dij, 'exp')"
   ]
  },
  {
   "cell_type": "code",
   "execution_count": 8,
   "metadata": {
    "collapsed": true
   },
   "outputs": [],
   "source": [
    "glm_inst = GLM(instance.y, instance.X, family=families.Poisson())\n",
    "%lprun -f GLM.__init__ glm_inst.__init__(instance.y, instance.X, family=families.Poisson())"
   ]
  },
  {
   "cell_type": "code",
   "execution_count": 7,
   "metadata": {
    "collapsed": true
   },
   "outputs": [],
   "source": [
    "%lprun -f iwls iwls(instance.y, instance.X, family=families.Poisson(), offset=None, y_fix=None)"
   ]
  },
  {
   "cell_type": "code",
   "execution_count": null,
   "metadata": {
    "collapsed": true
   },
   "outputs": [],
   "source": []
  }
 ],
 "metadata": {
  "kernelspec": {
   "display_name": "Python 2",
   "language": "python",
   "name": "python2"
  },
  "language_info": {
   "codemirror_mode": {
    "name": "ipython",
    "version": 2
   },
   "file_extension": ".py",
   "mimetype": "text/x-python",
   "name": "python",
   "nbconvert_exporter": "python",
   "pygments_lexer": "ipython2",
   "version": "2.7.9"
  }
 },
 "nbformat": 4,
 "nbformat_minor": 0
}
