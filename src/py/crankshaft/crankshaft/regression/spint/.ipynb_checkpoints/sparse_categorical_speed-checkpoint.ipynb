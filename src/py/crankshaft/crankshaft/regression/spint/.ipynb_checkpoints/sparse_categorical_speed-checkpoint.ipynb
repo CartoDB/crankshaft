{
 "cells": [
  {
   "cell_type": "code",
   "execution_count": 43,
   "metadata": {
    "collapsed": false
   },
   "outputs": [
    {
     "name": "stdout",
     "output_type": "stream",
     "text": [
      "Populating the interactive namespace from numpy and matplotlib\n"
     ]
    },
    {
     "name": "stderr",
     "output_type": "stream",
     "text": [
      "WARNING: pylab import has clobbered these variables: ['e', 'f']\n",
      "`%matplotlib` prevents importing * from pylab and numpy\n"
     ]
    }
   ],
   "source": [
    "import numpy as np\n",
    "import pysal\n",
    "import scipy.sparse as sp\n",
    "import itertools as iter\n",
    "from scipy.stats import f, chisqprob\n",
    "import numpy.linalg as la\n",
    "import pandas as pd\n",
    "from datetime import datetime as dt\n",
    "import matplotlib.pyplot as plt\n",
    "%pylab inline"
   ]
  },
  {
   "cell_type": "code",
   "execution_count": 282,
   "metadata": {
    "collapsed": false
   },
   "outputs": [],
   "source": [
    "#OLD\n",
    "\"\"\"\n",
    "def spcategorical2(n_cat_ids):\n",
    "    '''\n",
    "    Returns a dummy matrix given an array of categorical variables.\n",
    "    Parameters\n",
    "    ----------\n",
    "    n_cat_ids    : array\n",
    "                   A 1d vector of the categorical labels for n observations.\n",
    "\n",
    "    Returns\n",
    "    --------\n",
    "    dummy        : array\n",
    "                   A sparse matrix of dummy (indicator/binary) variables for the\n",
    "                   categorical data.  \n",
    "\n",
    "    '''\n",
    "    if np.squeeze(n_cat_ids).ndim == 1:\n",
    "        cat_set = np.unique(n_cat_ids)\n",
    "        n = len(n_cat_ids)\n",
    "        C = len(cat_set)\n",
    "        row_map = dict((id, np.where(cat_set == id)[0]) for id in n_cat_ids)\n",
    "        indices = np.array([row_map[row] for row in n_cat_ids]).flatten()\n",
    "        indptr = np.zeros((n + 1, ), dtype=int)\n",
    "        indptr[:-1] = list(np.arange(n))\n",
    "        indptr[-1] = n \n",
    "        return sp.csr_matrix((np.ones(n), indices, indptr))\n",
    "    else:\n",
    "        raise IndexError(\"The index %s is not understood\" % col)\n",
    "\"\"\"\n",
    "def spcategorical2(n_cat_ids):\n",
    "    '''\n",
    "    Returns a dummy matrix given an array of categorical variables.\n",
    "    Parameters\n",
    "    ----------\n",
    "    n_cat_ids    : array\n",
    "                   A 1d vector of the categorical labels for n observations.\n",
    "\n",
    "    Returns\n",
    "    --------\n",
    "    dummy        : array\n",
    "                   A sparse matrix of dummy (indicator/binary) variables for the\n",
    "                   categorical data.  \n",
    "\n",
    "    '''\n",
    "    if np.squeeze(n_cat_ids).ndim == 1:\n",
    "        cat_set = np.unique(n_cat_ids)\n",
    "        n = len(n_cat_ids)\n",
    "        C = len(cat_set)\n",
    "        indices = n_cat_ids\n",
    "        indptr = np.arange(n+1, dtype=int) \n",
    "        return sp.csr_matrix((np.ones(n), indices, indptr))\n",
    "    else:\n",
    "        raise IndexError(\"The index %s is not understood\" % col)"
   ]
  },
  {
   "cell_type": "code",
   "execution_count": 283,
   "metadata": {
    "collapsed": true
   },
   "outputs": [],
   "source": [
    "def spcategorical1(data):\n",
    "    '''\n",
    "    Returns a dummy matrix given an array of categorical variables.\n",
    "    Parameters\n",
    "    ----------\n",
    "    data : array\n",
    "        A 1d vector of the categorical variable.\n",
    "\n",
    "    Returns\n",
    "    --------\n",
    "    dummy_matrix\n",
    "        A sparse matrix of dummy (indicator/binary) variables for the\n",
    "        categorical data.  \n",
    "\n",
    "    '''\n",
    "    if np.squeeze(data).ndim == 1:\n",
    "        tmp_arr = np.unique(data)\n",
    "        tmp_dummy = sp.csr_matrix((0, len(data)))\n",
    "        for each in tmp_arr[:, None]:\n",
    "            row = sp.csr_matrix((each == data).astype(float))\n",
    "            tmp_dummy = sp.vstack([tmp_dummy, row])\n",
    "        tmp_dummy = tmp_dummy.T\n",
    "        return tmp_dummy\n",
    "    else:\n",
    "        raise IndexError(\"The index %s is not understood\" % col)\n",
    "\n"
   ]
  },
  {
   "cell_type": "code",
   "execution_count": 284,
   "metadata": {
    "collapsed": true
   },
   "outputs": [],
   "source": [
    "def spcategorical1a(data):\n",
    "    '''\n",
    "    Returns a dummy matrix given an array of categorical variables.\n",
    "    Parameters\n",
    "    ----------\n",
    "    data : array\n",
    "        A 1d vector of the categorical variable.\n",
    "\n",
    "    Returns\n",
    "    --------\n",
    "    dummy_matrix\n",
    "        A sparse matrix of dummy (indicator/binary) variables for the\n",
    "        categorical data.  \n",
    "\n",
    "    '''\n",
    "    if np.squeeze(data).ndim == 1:\n",
    "        tmp_arr = np.unique(data)\n",
    "        n = len(data)\n",
    "        C = len(tmp_arr)\n",
    "        tmp_dummy = sp.dok_matrix((n, C))\n",
    "        for each in tmp_arr[:, None]:\n",
    "            row = (each == data).astype(float)\n",
    "            tmp_dummy[:,each[0]] = row.reshape((n,1))\n",
    "        return tmp_dummy.tocsr()\n",
    "    else:\n",
    "        raise IndexError(\"The index %s is not understood\" % col)\n",
    "\n",
    "\n",
    "\n"
   ]
  },
  {
   "cell_type": "code",
   "execution_count": 285,
   "metadata": {
    "collapsed": true
   },
   "outputs": [],
   "source": [
    "def spcategorical1b(data):\n",
    "    '''\n",
    "    Returns a dummy matrix given an array of categorical variables.\n",
    "    Parameters\n",
    "    ----------\n",
    "    data : array\n",
    "        A 1d vector of the categorical variable.\n",
    "\n",
    "    Returns\n",
    "    --------\n",
    "    dummy_matrix\n",
    "        A sparse matrix of dummy (indicator/binary) variables for the\n",
    "        categorical data.  \n",
    "\n",
    "    '''\n",
    "    if np.squeeze(data).ndim == 1:\n",
    "        tmp_arr = np.unique(data)\n",
    "        n = len(data)\n",
    "        C = len(tmp_arr)\n",
    "        tmp_dummy = sp.lil_matrix((n, C))\n",
    "        for each in tmp_arr[:, None]:\n",
    "            row = (each == data).astype(float)\n",
    "            tmp_dummy[:,each[0]] = row.reshape((n,1))\n",
    "        return tmp_dummy.tocsr()\n",
    "    else:\n",
    "        raise IndexError(\"The index %s is not understood\" % col)\n"
   ]
  },
  {
   "cell_type": "code",
   "execution_count": 286,
   "metadata": {
    "collapsed": false
   },
   "outputs": [
    {
     "name": "stdout",
     "output_type": "stream",
     "text": [
      "True\n",
      "True\n",
      "True\n"
     ]
    }
   ],
   "source": [
    "n = 20\n",
    "o = np.tile(np.arange(n),n)\n",
    "print np.allclose(spcategorical1(o).toarray(), spcategorical2(o).toarray())\n",
    "print np.allclose(spcategorical1(o).toarray(), spcategorical1a(o).toarray())\n",
    "print np.allclose(spcategorical1(o).toarray(), spcategorical1b(o).toarray())"
   ]
  },
  {
   "cell_type": "code",
   "execution_count": 287,
   "metadata": {
    "collapsed": false
   },
   "outputs": [],
   "source": [
    "spcat1 = []\n",
    "for n in np.arange(25,250,25):\n",
    "    o = np.tile(np.arange(n),n)\n",
    "    s = dt.now()\n",
    "    a = spcategorical1(np.array(o))\n",
    "    e = dt.now()\n",
    "    spcat1.append((e-s).total_seconds())"
   ]
  },
  {
   "cell_type": "code",
   "execution_count": 293,
   "metadata": {
    "collapsed": true
   },
   "outputs": [],
   "source": [
    "spcat1a = []\n",
    "for n in np.arange(25,250,25):\n",
    "    o = np.tile(np.arange(n),n)\n",
    "    s = dt.now()\n",
    "    b = spcategorical1a(np.array(o))\n",
    "    e = dt.now()\n",
    "    spcat1a.append((e-s).total_seconds())"
   ]
  },
  {
   "cell_type": "code",
   "execution_count": 180,
   "metadata": {
    "collapsed": true
   },
   "outputs": [],
   "source": [
    "spcat1b = []\n",
    "for n in np.arange(25,250,25):\n",
    "    o = np.tile(np.arange(n),n)\n",
    "    s = dt.now()\n",
    "    b = spcategorical1b(np.array(o))\n",
    "    e = dt.now()\n",
    "    spcat1b.append((e-s).total_seconds())"
   ]
  },
  {
   "cell_type": "code",
   "execution_count": 288,
   "metadata": {
    "collapsed": false
   },
   "outputs": [],
   "source": [
    "spcat2 = []\n",
    "for n in np.arange(25,250,25):\n",
    "    o = np.tile(np.arange(n),n)\n",
    "    s = dt.now()\n",
    "    b = spcategorical2(np.array(o))\n",
    "    e = dt.now()\n",
    "    spcat2.append((e-s).total_seconds())"
   ]
  },
  {
   "cell_type": "code",
   "execution_count": 289,
   "metadata": {
    "collapsed": false
   },
   "outputs": [
    {
     "data": {
      "text/plain": [
       "[0.00925,\n",
       " 0.016085,\n",
       " 0.023427,\n",
       " 0.036465,\n",
       " 0.053077,\n",
       " 0.071263,\n",
       " 0.105652,\n",
       " 0.125046,\n",
       " 0.158332]"
      ]
     },
     "execution_count": 289,
     "metadata": {},
     "output_type": "execute_result"
    }
   ],
   "source": [
    "spcat1"
   ]
  },
  {
   "cell_type": "code",
   "execution_count": 294,
   "metadata": {
    "collapsed": false
   },
   "outputs": [
    {
     "data": {
      "text/plain": [
       "[0.017515,\n",
       " 0.118629,\n",
       " 0.371812,\n",
       " 0.926212,\n",
       " 2.062251,\n",
       " 3.920805,\n",
       " 6.131568,\n",
       " 9.242453,\n",
       " 13.739116]"
      ]
     },
     "execution_count": 294,
     "metadata": {},
     "output_type": "execute_result"
    }
   ],
   "source": [
    "spcat1a"
   ]
  },
  {
   "cell_type": "code",
   "execution_count": 295,
   "metadata": {
    "collapsed": false
   },
   "outputs": [
    {
     "data": {
      "text/plain": [
       "[0.005511,\n",
       " 0.014289,\n",
       " 0.040431,\n",
       " 0.117726,\n",
       " 0.188659,\n",
       " 0.357239,\n",
       " 0.518341,\n",
       " 0.888993,\n",
       " 1.277546]"
      ]
     },
     "execution_count": 295,
     "metadata": {},
     "output_type": "execute_result"
    }
   ],
   "source": [
    "spcat1b"
   ]
  },
  {
   "cell_type": "code",
   "execution_count": 292,
   "metadata": {
    "collapsed": false
   },
   "outputs": [
    {
     "data": {
      "text/plain": [
       "[0.00032,\n",
       " 0.000211,\n",
       " 0.000295,\n",
       " 0.000455,\n",
       " 0.000561,\n",
       " 0.000798,\n",
       " 0.001032,\n",
       " 0.001201,\n",
       " 0.001746]"
      ]
     },
     "execution_count": 292,
     "metadata": {},
     "output_type": "execute_result"
    }
   ],
   "source": [
    "spcat2"
   ]
  },
  {
   "cell_type": "code",
   "execution_count": 296,
   "metadata": {
    "collapsed": false
   },
   "outputs": [
    {
     "data": {
      "text/plain": [
       "<matplotlib.text.Text at 0x1132d46d0>"
      ]
     },
     "execution_count": 296,
     "metadata": {},
     "output_type": "execute_result"
    },
    {
     "data": {
      "image/png": "[encoded data removed]",
      "text/plain": [
       "<matplotlib.figure.Figure at 0x113aec490>"
      ]
     },
     "metadata": {},
     "output_type": "display_data"
    }
   ],
   "source": [
    "x = np.arange(25, 250, 25)\n",
    "plt.plot(x, spcat1, x, spcat1a, x, spcat1b, x, spcat2)\n",
    "plt.legend(('spcat1', 'spcat1a', 'spcat1b', 'spcat2'))\n",
    "plt.title('Speed of Sparse Dummy Functions')\n",
    "plt.xlabel('Sample Size')\n",
    "plt.ylabel('Seconds')"
   ]
  },
  {
   "cell_type": "markdown",
   "metadata": {},
   "source": [
    "###### It is obvious that spcat1 and spcat2 are the fastest functions for creating sparse dummies. The differnece between these two functions is that spcat1 creates the dummies row by row (in sparse format) and then stacks the rows using sparse.hstack() while spcat2 builds an index for the non-zero dummy variable entries and then uses this index to instanitate the entire sparse dummy matrix, somewhat simularly to how the regimes are built in pysal. The slower functions spcat1a and spcat1b are riffs on spcat1 in that they also work row by row but they first instantiate an empty sparse matrix (either lil or dok) and then assign the rows to the empty matrix. The scipy doucmentation suggests that assignment for these two types of sparce matrices is faster than csr and csc and therefore is better for incrementally building a sparse matrix. However, it appears that avoiding assignment alother may be the best route if building a sparse matrix row by row. Therefrow csr is the best sparse data structure for row by row contruction in this context. Now lets lets row by row building (spcat1) vs entire instantiation using an non-zero-value index (spcat2) when the number of dummy variables starts to become much larger."
   ]
  },
  {
   "cell_type": "code",
   "execution_count": 311,
   "metadata": {
    "collapsed": false
   },
   "outputs": [],
   "source": [
    "spcat1 = []\n",
    "for n in np.arange(100,1000,100):\n",
    "    o = np.tile(np.arange(n),n)\n",
    "    s = dt.now()\n",
    "    b = spcategorical1(np.array(o))\n",
    "    e = dt.now()\n",
    "    spcat1.append((e-s).total_seconds())"
   ]
  },
  {
   "cell_type": "code",
   "execution_count": 312,
   "metadata": {
    "collapsed": false
   },
   "outputs": [],
   "source": [
    "spcat2 = []\n",
    "for n in np.arange(100,1000,100):\n",
    "    o = np.tile(np.arange(n),n)\n",
    "    s = dt.now()\n",
    "    b = spcategorical2(np.array(o))\n",
    "    e = dt.now()\n",
    "    spcat2.append((e-s).total_seconds())"
   ]
  },
  {
   "cell_type": "code",
   "execution_count": 314,
   "metadata": {
    "collapsed": false
   },
   "outputs": [
    {
     "data": {
      "text/plain": [
       "[0.039641,\n",
       " 0.127073,\n",
       " 0.313178,\n",
       " 0.692129,\n",
       " 1.286246,\n",
       " 2.14461,\n",
       " 3.737387,\n",
       " 5.416489,\n",
       " 7.583021]"
      ]
     },
     "execution_count": 314,
     "metadata": {},
     "output_type": "execute_result"
    }
   ],
   "source": [
    "spcat1"
   ]
  },
  {
   "cell_type": "code",
   "execution_count": 315,
   "metadata": {
    "collapsed": false
   },
   "outputs": [
    {
     "data": {
      "text/plain": [
       "[0.001299,\n",
       " 0.00189,\n",
       " 0.004869,\n",
       " 0.009591,\n",
       " 0.010163,\n",
       " 0.012483,\n",
       " 0.0204,\n",
       " 0.026372,\n",
       " 0.032667]"
      ]
     },
     "execution_count": 315,
     "metadata": {},
     "output_type": "execute_result"
    }
   ],
   "source": [
    "spcat2"
   ]
  },
  {
   "cell_type": "code",
   "execution_count": 316,
   "metadata": {
    "collapsed": false
   },
   "outputs": [
    {
     "data": {
      "text/plain": [
       "<matplotlib.text.Text at 0x124185d90>"
      ]
     },
     "execution_count": 316,
     "metadata": {},
     "output_type": "execute_result"
    },
    {
     "data": {
      "image/png": "[encoded data removed]",
      "text/plain": [
       "<matplotlib.figure.Figure at 0x1184c2e50>"
      ]
     },
     "metadata": {},
     "output_type": "display_data"
    }
   ],
   "source": [
    "x = np.arange(100, 1000, 100)\n",
    "plt.plot(x, spcat1, x, spcat2)\n",
    "plt.legend(('spcat1', 'spcat2'))\n",
    "plt.title('Speed of Sparse Dummy Functions')\n",
    "plt.xlabel('Sample Size')\n",
    "plt.ylabel('Seconds')"
   ]
  },
  {
   "cell_type": "markdown",
   "metadata": {},
   "source": [
    "###### It is clear that the spcat2 function, which uses the non-zero-value index, is more efficient than the row by row method in spcat1. However, from additional testing, it was noticed that spcat2 does use more memory and for larger n (somewhere between 10k and 20k), my notebook ran out of memory. This is likely due to to the fact that the spcat2 function requires an ($n^2$,) array ones ones, an index array of shape ($n^2$,) and an index pointer array of shape ($n^2$,). Combined these must soak up a lot of memory, which makes very large n infeasible. Then the spcat1 function still may be useful in scenarios where there is a very large sample size and no way of accessing more memory. It will be very slow in compairson, but will make analysis feasible where it would otherwise be infeasible. As a reasult,  I will keep both functions as options."
   ]
  },
  {
   "cell_type": "code",
   "execution_count": 317,
   "metadata": {
    "collapsed": true
   },
   "outputs": [],
   "source": [
    "def spcategorical2(n_cat_ids):\n",
    "    '''\n",
    "    Returns a dummy matrix given an array of categorical variables.\n",
    "    Parameters\n",
    "    ----------\n",
    "    n_cat_ids    : array\n",
    "                   A 1d vector of the categorical labels for n observations.\n",
    "\n",
    "    Returns\n",
    "    --------\n",
    "    dummy        : array\n",
    "                   A sparse matrix of dummy (indicator/binary) variables for the\n",
    "                   categorical data.  \n",
    "\n",
    "    '''\n",
    "    if np.squeeze(n_cat_ids).ndim == 1:\n",
    "        cat_set = np.unique(n_cat_ids)\n",
    "        n = len(n_cat_ids)\n",
    "        C = len(cat_set)\n",
    "        indices = n_cat_ids\n",
    "        indptr = np.arange(n+1, dtype=int) \n",
    "        return sp.csr_matrix((np.ones(n), indices, indptr))\n",
    "    else:\n",
    "        raise IndexError(\"The index %s is not understood\" % col)"
   ]
  },
  {
   "cell_type": "code",
   "execution_count": 319,
   "metadata": {
    "collapsed": false
   },
   "outputs": [],
   "source": [
    "n = 2000\n",
    "o = np.tile(np.arange(n),n)\n",
    "s = dt.now()\n",
    "b = spcategorical2(np.array(o))\n",
    "e = dt.now()\n",
    "print e-s"
   ]
  },
  {
   "cell_type": "code",
   "execution_count": 401,
   "metadata": {
    "collapsed": false
   },
   "outputs": [
    {
     "name": "stderr",
     "output_type": "stream",
     "text": [
      "/Library/Frameworks/Python.framework/Versions/2.7/lib/python2.7/site-packages/ipykernel/__main__.py:4: DeprecationWarning: using a non-integer number instead of an integer will result in an error in the future\n",
      "/Library/Frameworks/Python.framework/Versions/2.7/lib/python2.7/site-packages/ipykernel/__main__.py:5: DeprecationWarning: using a non-integer number instead of an integer will result in an error in the future\n"
     ]
    }
   ],
   "source": [
    "n = 100\n",
    "o = np.tile(np.random.randint(1,7,n),n)\n",
    "h = n**2 / 2.0\n",
    "first = o[:h]\n",
    "second = o[h:]\n",
    "\n",
    "s = dt.now()\n",
    "first = spcategorical2(np.array(first))\n",
    "e = dt.now()\n",
    "\n",
    "s = dt.now()\n",
    "second = spcategorical2(np.array(second))\n",
    "e = dt.now()\n",
    "\n",
    "s = dt.now()\n",
    "b = spcategorical2(np.array(o))\n",
    "e = dt.now()\n",
    "print e-s\n",
    "\n",
    "al = sp.vstack((first, second))"
   ]
  },
  {
   "cell_type": "code",
   "execution_count": 407,
   "metadata": {
    "collapsed": true
   },
   "outputs": [],
   "source": [
    "al = sp.vstack((first, second))"
   ]
  },
  {
   "cell_type": "code",
   "execution_count": 408,
   "metadata": {
    "collapsed": false
   },
   "outputs": [
    {
     "data": {
      "text/plain": [
       "True"
      ]
     },
     "execution_count": 408,
     "metadata": {},
     "output_type": "execute_result"
    }
   ],
   "source": [
    "np.allclose(al.toarray(), b.toarray())"
   ]
  },
  {
   "cell_type": "code",
   "execution_count": 400,
   "metadata": {
    "collapsed": false
   },
   "outputs": [
    {
     "data": {
      "text/plain": [
       "array([[ 0.,  0.,  0., ...,  0.,  0.,  0.],\n",
       "       [ 0.,  0.,  0., ...,  0.,  0.,  0.],\n",
       "       [ 0.,  0.,  0., ...,  0.,  0.,  0.],\n",
       "       ..., \n",
       "       [ 0.,  0.,  0., ...,  0.,  0.,  0.],\n",
       "       [ 0.,  0.,  0., ...,  0.,  0.,  0.],\n",
       "       [ 0.,  0.,  0., ...,  0.,  1.,  0.]])"
      ]
     },
     "execution_count": 400,
     "metadata": {},
     "output_type": "execute_result"
    }
   ],
   "source": [
    "al.toarray()"
   ]
  },
  {
   "cell_type": "code",
   "execution_count": 409,
   "metadata": {
    "collapsed": false
   },
   "outputs": [
    {
     "data": {
      "text/plain": [
       "array([5, 5, 3, ..., 6, 1, 5])"
      ]
     },
     "execution_count": 409,
     "metadata": {},
     "output_type": "execute_result"
    }
   ],
   "source": [
    "o"
   ]
  },
  {
   "cell_type": "code",
   "execution_count": null,
   "metadata": {
    "collapsed": true
   },
   "outputs": [],
   "source": []
  }
 ],
 "metadata": {
  "kernelspec": {
   "display_name": "Python 2",
   "language": "python",
   "name": "python2"
  },
  "language_info": {
   "codemirror_mode": {
    "name": "ipython",
    "version": 2
   },
   "file_extension": ".py",
   "mimetype": "text/x-python",
   "name": "python",
   "nbconvert_exporter": "python",
   "pygments_lexer": "ipython2",
   "version": "2.7.9"
  }
 },
 "nbformat": 4,
 "nbformat_minor": 0
}
